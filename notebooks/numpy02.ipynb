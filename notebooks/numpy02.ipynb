{
  "nbformat": 4,
  "nbformat_minor": 0,
  "metadata": {
    "colab": {
      "name": "numpy.ipynb",
      "provenance": [],
      "collapsed_sections": [],
      "machine_shape": "hm",
      "authorship_tag": "ABX9TyMSTy1K810E3WGYINKjhexv",
      "include_colab_link": true
    },
    "kernelspec": {
      "name": "python3",
      "display_name": "Python 3"
    },
    "language_info": {
      "name": "python"
    },
    "accelerator": "GPU",
    "gpuClass": "standard"
  },
  "cells": [
    {
      "cell_type": "markdown",
      "metadata": {
        "id": "view-in-github",
        "colab_type": "text"
      },
      "source": [
        "<a href=\"https://colab.research.google.com/github/zhoujiuzhou9/tensorFlow/blob/V1/numpy02.ipynb\" target=\"_parent\"><img src=\"https://colab.research.google.com/assets/colab-badge.svg\" alt=\"Open In Colab\"/></a>"
      ]
    },
    {
      "cell_type": "code",
      "source": [
        "import numpy as np\n",
        "\n",
        "\n",
        "# y = wx + b\n",
        "def compute_error_for_line_given_points(b, w, points):\n",
        "    totalError = 0\n",
        "    for i in range(0, len(points)):\n",
        "        x = points[i, 0]\n",
        "        y = points[i, 1]\n",
        "        # computer mean-squared-error\n",
        "        totalError += (y - (w * x + b)) ** 2\n",
        "    # average loss for each point\n",
        "    return totalError / float(len(points))\n",
        "\n",
        "\n",
        "def step_gradient(b_current, w_current, points, learningRate):\n",
        "    b_gradient = 0\n",
        "    w_gradient = 0\n",
        "    N = float(len(points))\n",
        "    for i in range(0, len(points)):\n",
        "        x = points[i, 0]\n",
        "        y = points[i, 1]\n",
        "        # grad_b = 2(wx+b-y)\n",
        "        b_gradient += (2 / N) * ((w_current * x + b_current) - y)\n",
        "        # grad_w = 2(wx+b-y)*x\n",
        "        w_gradient += (2 / N) * x * ((w_current * x + b_current) - y)\n",
        "    # update w'\n",
        "    new_b = b_current - (learningRate * b_gradient)\n",
        "    new_w = w_current - (learningRate * w_gradient)\n",
        "    return [new_b, new_w]\n",
        "\n",
        "\n",
        "def gradient_descent_runner(points, starting_b, starting_w, learning_rate, num_iterations):\n",
        "    b = starting_b\n",
        "    w = starting_w\n",
        "    # update for several times\n",
        "    for i in range(num_iterations):\n",
        "        b, w = step_gradient(b, w, np.array(points), learning_rate)\n",
        "    return [b, w]\n",
        "\n",
        "\n",
        "def run():\n",
        "    points = np.genfromtxt(\"data.csv\", delimiter=\",\")\n",
        "    learning_rate = 0.0001\n",
        "    initial_b = 0  # initial y-intercept guess\n",
        "    initial_w = 0  # initial slope guess\n",
        "    num_iterations = 1000\n",
        "    print(\"Starting gradient descent at b = {0}, w = {1}, error = {2}\"\n",
        "          .format(initial_b, initial_w,\n",
        "                  compute_error_for_line_given_points(initial_b, initial_w, points))\n",
        "          )\n",
        "    print(\"Running...\")\n",
        "    [b, w] = gradient_descent_runner(points, initial_b, initial_w, learning_rate, num_iterations)\n",
        "    print(\"After {0} iterations b = {1}, w = {2}, error = {3}\".\n",
        "          format(num_iterations, b, w,\n",
        "                 compute_error_for_line_given_points(b, w, points))\n",
        "          )\n",
        "\n",
        "\n",
        "if __name__ == '__main__':\n",
        "    run()"
      ],
      "metadata": {
        "colab": {
          "base_uri": "https://localhost:8080/"
        },
        "id": "30R1sdZc4w5R",
        "outputId": "fbf63e96-b8bd-4725-f452-8d3140571582"
      },
      "execution_count": 1,
      "outputs": [
        {
          "output_type": "stream",
          "name": "stdout",
          "text": [
            "Starting gradient descent at b = 0, w = 0, error = 5565.107834483211\n",
            "Running...\n",
            "After 1000 iterations b = 0.08893651993741346, w = 1.4777440851894448, error = 112.61481011613473\n"
          ]
        }
      ]
    }
  ]
}