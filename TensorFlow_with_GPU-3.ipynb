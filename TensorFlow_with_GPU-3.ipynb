{
  "cells": [
    {
      "cell_type": "markdown",
      "metadata": {
        "id": "view-in-github",
        "colab_type": "text"
      },
      "source": [
        "<a href=\"https://colab.research.google.com/github/zhoujiuzhou9/tensorFlow/blob/V1/TensorFlow_with_GPU-3.ipynb\" target=\"_parent\"><img src=\"https://colab.research.google.com/assets/colab-badge.svg\" alt=\"Open In Colab\"/></a>"
      ]
    },
    {
      "cell_type": "code",
      "source": [
        "import os\n",
        "import tensorflow as tf\n",
        "import numpy as np\n",
        "os.environ['TF_CPP_MIN_LOG_LEVEL'] = '2'\n",
        "print(tf.__version__)\n",
        "\n",
        "a=tf.ones([1,5,5,3])\n",
        "print(a[0][0])\n",
        "\n"
      ],
      "metadata": {
        "colab": {
          "base_uri": "https://localhost:8080/"
        },
        "id": "H54BvZ9R2vkE",
        "outputId": "34a65e0b-d20b-426d-eb4d-568f5d1afb86"
      },
      "execution_count": 1,
      "outputs": [
        {
          "output_type": "stream",
          "name": "stdout",
          "text": [
            "2.8.2\n",
            "tf.Tensor(\n",
            "[[1. 1. 1.]\n",
            " [1. 1. 1.]\n",
            " [1. 1. 1.]\n",
            " [1. 1. 1.]\n",
            " [1. 1. 1.]], shape=(5, 3), dtype=float32)\n"
          ]
        }
      ]
    },
    {
      "cell_type": "code",
      "source": [
        "import os\n",
        "import tensorflow as tf\n",
        "import numpy as np\n",
        "os.environ['TF_CPP_MIN_LOG_LEVEL'] = '2'\n",
        "print(tf.__version__)\n",
        "\n",
        "a=tf.ones([1,5,5,3])\n",
        "print(a[0][0][0])\n",
        "\n",
        "print(a[0,:,:,:])"
      ],
      "metadata": {
        "id": "FfmbpM__6mIu",
        "outputId": "91a6785e-f6ae-43d9-9f46-8eda2fdb95a8",
        "colab": {
          "base_uri": "https://localhost:8080/"
        }
      },
      "execution_count": 5,
      "outputs": [
        {
          "output_type": "stream",
          "name": "stdout",
          "text": [
            "2.8.2\n",
            "tf.Tensor([1. 1. 1.], shape=(3,), dtype=float32)\n",
            "tf.Tensor(\n",
            "[[[1. 1. 1.]\n",
            "  [1. 1. 1.]\n",
            "  [1. 1. 1.]\n",
            "  [1. 1. 1.]\n",
            "  [1. 1. 1.]]\n",
            "\n",
            " [[1. 1. 1.]\n",
            "  [1. 1. 1.]\n",
            "  [1. 1. 1.]\n",
            "  [1. 1. 1.]\n",
            "  [1. 1. 1.]]\n",
            "\n",
            " [[1. 1. 1.]\n",
            "  [1. 1. 1.]\n",
            "  [1. 1. 1.]\n",
            "  [1. 1. 1.]\n",
            "  [1. 1. 1.]]\n",
            "\n",
            " [[1. 1. 1.]\n",
            "  [1. 1. 1.]\n",
            "  [1. 1. 1.]\n",
            "  [1. 1. 1.]\n",
            "  [1. 1. 1.]]\n",
            "\n",
            " [[1. 1. 1.]\n",
            "  [1. 1. 1.]\n",
            "  [1. 1. 1.]\n",
            "  [1. 1. 1.]\n",
            "  [1. 1. 1.]]], shape=(5, 5, 3), dtype=float32)\n"
          ]
        }
      ]
    },
    {
      "cell_type": "code",
      "source": [
        "a = tf.ones([4, 35, 8])\n",
        "b = tf.gather_nd(a, [[0, 0], [1, 1]])\n",
        "print(a.shape)\n"
      ],
      "metadata": {
        "id": "6VNg-UW-EBtM",
        "outputId": "8e198324-9f23-45db-d9b0-81dbc5965188",
        "colab": {
          "base_uri": "https://localhost:8080/"
        }
      },
      "execution_count": 6,
      "outputs": [
        {
          "output_type": "stream",
          "name": "stdout",
          "text": [
            "(4, 35, 8)\n"
          ]
        }
      ]
    },
    {
      "cell_type": "code",
      "source": [
        "import os\n",
        "import tensorflow as tf\n",
        "from tensorflow import keras\n",
        "from tensorflow.keras import layers, optimizers, datasets\n",
        "\n",
        "os.environ['TF_CPP_MIN_LOG_LEVEL'] = '2'\n",
        "\n",
        "(x, y), (x_val, y_val) = datasets.mnist.load_data()\n",
        "x = tf.convert_to_tensor(x, dtype=tf.float32) / 255.\n",
        "y = tf.convert_to_tensor(y, dtype=tf.int32)\n",
        "y = tf.one_hot(y, depth=10)\n",
        "print(x.shape, y.shape)\n",
        "train_dataset = tf.data.Dataset.from_tensor_slices((x, y))\n",
        "train_dataset = train_dataset.batch(200)\n",
        "\n",
        "model = keras.Sequential([\n",
        "    layers.Dense(512, activation='relu'),\n",
        "    layers.Dense(256, activation='relu'),\n",
        "    layers.Dense(10)])\n",
        "\n",
        "optimizer = optimizers.SGD(learning_rate=0.001)\n",
        "\n",
        "\n",
        "def train_epoch(epoch):\n",
        "    # Step4.loop\n",
        "    for step, (x, y) in enumerate(train_dataset):\n",
        "\n",
        "        with tf.GradientTape() as tape:\n",
        "            # [b, 28, 28] => [b, 784]\n",
        "            x = tf.reshape(x, (-1, 28 * 28))\n",
        "            # Step1. compute output\n",
        "            # [b, 784] => [b, 10]\n",
        "            out = model(x)\n",
        "            # Step2. compute loss\n",
        "            loss = tf.reduce_sum(tf.square(out - y)) / x.shape[0]\n",
        "\n",
        "        # Step3. optimize and update w1, w2, w3, b1, b2, b3\n",
        "        grads = tape.gradient(loss, model.trainable_variables)\n",
        "        # w' = w - lr * grad\n",
        "        optimizer.apply_gradients(zip(grads, model.trainable_variables))\n",
        "\n",
        "        if step % 100 == 0:\n",
        "            print(epoch, step, 'loss:', loss.numpy())\n",
        "\n",
        "\n",
        "def train():\n",
        "    for epoch in range(30):\n",
        "        train_epoch(epoch)\n",
        "\n",
        "\n",
        "if __name__ == '__main__':\n",
        "    train()"
      ],
      "metadata": {
        "id": "AMeRWNQON8dz",
        "outputId": "b35211f5-b368-46e9-be03-560bcd0d6ac2",
        "colab": {
          "base_uri": "https://localhost:8080/"
        }
      },
      "execution_count": 7,
      "outputs": [
        {
          "output_type": "stream",
          "name": "stdout",
          "text": [
            "Downloading data from https://storage.googleapis.com/tensorflow/tf-keras-datasets/mnist.npz\n",
            "11493376/11490434 [==============================] - 0s 0us/step\n",
            "11501568/11490434 [==============================] - 0s 0us/step\n",
            "(60000, 28, 28) (60000, 10)\n",
            "0 0 loss: 1.6208457\n",
            "0 100 loss: 0.9526868\n",
            "0 200 loss: 0.7700283\n",
            "1 0 loss: 0.7078283\n",
            "1 100 loss: 0.69496673\n",
            "1 200 loss: 0.5971144\n",
            "2 0 loss: 0.5806367\n",
            "2 100 loss: 0.60655874\n",
            "2 200 loss: 0.52528185\n",
            "3 0 loss: 0.5178297\n",
            "3 100 loss: 0.55543846\n",
            "3 200 loss: 0.482154\n",
            "4 0 loss: 0.47777492\n",
            "4 100 loss: 0.5197071\n",
            "4 200 loss: 0.45158893\n",
            "5 0 loss: 0.44926926\n",
            "5 100 loss: 0.49264672\n",
            "5 200 loss: 0.42803946\n",
            "6 0 loss: 0.42691112\n",
            "6 100 loss: 0.47065076\n",
            "6 200 loss: 0.408868\n",
            "7 0 loss: 0.40828735\n",
            "7 100 loss: 0.45205152\n",
            "7 200 loss: 0.39264083\n",
            "8 0 loss: 0.39244282\n",
            "8 100 loss: 0.43588996\n",
            "8 200 loss: 0.37861684\n",
            "9 0 loss: 0.37861007\n",
            "9 100 loss: 0.42159158\n",
            "9 200 loss: 0.36610427\n",
            "10 0 loss: 0.36643353\n",
            "10 100 loss: 0.40882838\n",
            "10 200 loss: 0.35487157\n",
            "11 0 loss: 0.35547912\n",
            "11 100 loss: 0.39737633\n",
            "11 200 loss: 0.34483346\n",
            "12 0 loss: 0.3455511\n",
            "12 100 loss: 0.3871588\n",
            "12 200 loss: 0.33576474\n",
            "13 0 loss: 0.33638015\n",
            "13 100 loss: 0.37796155\n",
            "13 200 loss: 0.32754338\n",
            "14 0 loss: 0.32788563\n",
            "14 100 loss: 0.3695337\n",
            "14 200 loss: 0.32005864\n",
            "15 0 loss: 0.32004756\n",
            "15 100 loss: 0.36172867\n",
            "15 200 loss: 0.31313965\n",
            "16 0 loss: 0.3128006\n",
            "16 100 loss: 0.35450047\n",
            "16 200 loss: 0.30669448\n",
            "17 0 loss: 0.3060589\n",
            "17 100 loss: 0.3477864\n",
            "17 200 loss: 0.30061427\n",
            "18 0 loss: 0.29978952\n",
            "18 100 loss: 0.34157562\n",
            "18 200 loss: 0.29495564\n",
            "19 0 loss: 0.29393885\n",
            "19 100 loss: 0.33574578\n",
            "19 200 loss: 0.28964734\n",
            "20 0 loss: 0.28842175\n",
            "20 100 loss: 0.33028328\n",
            "20 200 loss: 0.28461418\n",
            "21 0 loss: 0.283248\n",
            "21 100 loss: 0.3251017\n",
            "21 200 loss: 0.2798689\n",
            "22 0 loss: 0.27838966\n",
            "22 100 loss: 0.3202056\n",
            "22 200 loss: 0.27540216\n",
            "23 0 loss: 0.2737978\n",
            "23 100 loss: 0.315577\n",
            "23 200 loss: 0.27119052\n",
            "24 0 loss: 0.26948777\n",
            "24 100 loss: 0.3112748\n",
            "24 200 loss: 0.26721066\n",
            "25 0 loss: 0.2654045\n",
            "25 100 loss: 0.3072029\n",
            "25 200 loss: 0.2634412\n",
            "26 0 loss: 0.26152793\n",
            "26 100 loss: 0.30333406\n",
            "26 200 loss: 0.2598367\n",
            "27 0 loss: 0.25785556\n",
            "27 100 loss: 0.29965675\n",
            "27 200 loss: 0.25639686\n",
            "28 0 loss: 0.2543675\n",
            "28 100 loss: 0.29613948\n",
            "28 200 loss: 0.25314656\n",
            "29 0 loss: 0.25104132\n",
            "29 100 loss: 0.2927905\n",
            "29 200 loss: 0.25005886\n"
          ]
        }
      ]
    }
  ],
  "metadata": {
    "colab": {
      "collapsed_sections": [],
      "name": "TensorFlow with GPU",
      "toc_visible": true,
      "provenance": [],
      "include_colab_link": true
    },
    "kernelspec": {
      "display_name": "Python 3",
      "name": "python3"
    },
    "accelerator": "GPU",
    "gpuClass": "standard"
  },
  "nbformat": 4,
  "nbformat_minor": 0
}